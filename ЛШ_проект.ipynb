{
  "nbformat": 4,
  "nbformat_minor": 0,
  "metadata": {
    "colab": {
      "provenance": [],
      "gpuType": "V28"
    },
    "kernelspec": {
      "name": "python3",
      "display_name": "Python 3"
    },
    "language_info": {
      "name": "python"
    },
    "accelerator": "TPU"
  },
  "cells": [
    {
      "cell_type": "code",
      "execution_count": null,
      "metadata": {
        "id": "ZDxRoqbIYsOY"
      },
      "outputs": [],
      "source": [
        "\n",
        "import numpy as np\n",
        "import tensorflow as tf\n",
        "import matplotlib.pyplot as plt\n",
        "from tensorflow import keras\n",
        "%matplotlib inline\n",
        "from tensorflow.keras.datasets import fashion_mnist\n",
        "from tensorflow.keras.models import Sequential\n",
        "from tensorflow.keras.layers import Dense, Dropout\n",
        "from tensorflow.keras import utils\n",
        "\n",
        "#создание модели\n",
        "model = keras.Sequential([\n",
        "                          keras.layers.Conv2D(1024,(3,3),activation='relu'),\n",
        "                          keras.layers.MaxPooling2D(2,2),\n",
        "                          keras.layers.Conv2D(512,(3,3),activation='relu'),\n",
        "                          keras.layers.MaxPooling2D(2,2),\n",
        "                          keras.layers.Flatten(),\n",
        "                          keras.layers.Dense(512, activation=\"relu\"),\n",
        "                          keras.layers.Dense(128, activation=\"relu\"),\n",
        "                          keras.layers.Dense(10, activation=\"softmax\")\n",
        "])\n",
        "model.compile(optimizer=tf.keras.optimizers.Adam(), loss='sparse_categorical_crossentropy', metrics=['accuracy'])\n",
        "\n",
        "\n",
        "'''model = keras.Sequential([\n",
        "    keras.layers.Conv2D(2048, (3, 3), activation='relu'),\n",
        "    keras.layers.MaxPooling2D(2, 2),\n",
        "    keras.layers.Conv2D(1024, (5,5), activation='relu'),\n",
        "    keras.layers.MaxPooling2D(2, 2),\n",
        "    keras.layers.Conv2D(512, (5, 5), activation='relu'),\n",
        "    keras.layers.MaxPooling2D(2, 2),\n",
        "    keras.layers.Flatten(),\n",
        "    keras.layers.Dense(1024, activation=\"relu\"),\n",
        "    keras.layers.Dense(512, activation=\"relu\"),\n",
        "    keras.layers.Dense(128, activation=\"relu\"),\n",
        "    keras.layers.Dense(10, activation=\"softmax\")\n",
        "])\n",
        "model.compile(optimizer=tf.keras.optimizers.Adam(), loss='sparse_categorical_crossentropy', metrics=['accuracy'])\n",
        "'''"
      ]
    },
    {
      "cell_type": "code",
      "source": [],
      "metadata": {
        "id": "2cQ9dHhKeQ2j"
      },
      "execution_count": null,
      "outputs": []
    },
    {
      "cell_type": "code",
      "source": [
        "from google.colab import drive#подгрузка гугл диска\n",
        "drive.mount('/content/gdrive')"
      ],
      "metadata": {
        "colab": {
          "base_uri": "https://localhost:8080/"
        },
        "id": "kQ9lXLrjPM3V",
        "outputId": "06822013-cf57-4774-f837-f7701a9ebab9"
      },
      "execution_count": null,
      "outputs": [
        {
          "output_type": "stream",
          "name": "stdout",
          "text": [
            "Mounted at /content/gdrive\n"
          ]
        }
      ]
    },
    {
      "cell_type": "code",
      "source": [
        "import os\n",
        "import numpy as np\n",
        "from PIL import Image\n",
        "#скачивание картинок\n",
        "\n",
        "X = []\n",
        "Y=[]\n",
        "v=['/content/gdrive/MyDrive/TRAIN/malaria/','/content/gdrive/MyDrive/TRAIN/no_malaria/','/content/gdrive/MyDrive/TRAIN/GC/', '/content/gdrive/MyDrive/TRAIN/EH/', '/content/gdrive/MyDrive/TRAIN/CC/']\n",
        "v1=['malaria', 'no_malaria', 'GC', 'EH','CC']\n",
        "for i in range(5):\n",
        "  image_path= v[i]\n",
        "  images = os.listdir(image_path)\n",
        "  for image_name in images:\n",
        "      try:\n",
        "        image = Image.open(os.path.join(image_path, image_name))\n",
        "        image = image.resize((50, 50))\n",
        "        image_array = np.array(image)\n",
        "        X.append(image_array)\n",
        "        Y.append(i)\n",
        "      except:\n",
        "        pass\n",
        "X = np.array(X)\n",
        "Y=np.array(Y)\n",
        "XY=[[X[i], Y[i]] for i in range(len(Y))]\n",
        "np.random.shuffle(XY)\n",
        "for i in range(len(XY)):\n",
        "  X[i]=XY[i][0]\n",
        "  Y[i]=XY[i][1]\n",
        "X=X/255"
      ],
      "metadata": {
        "id": "uYc1UJNbc0wi"
      },
      "execution_count": null,
      "outputs": []
    },
    {
      "cell_type": "markdown",
      "source": [],
      "metadata": {
        "id": "20S75Wt8zm72"
      }
    },
    {
      "cell_type": "code",
      "source": [
        "model.fit(X[:5000],Y[:5000],epochs=10, validation_steps=None)#обучение"
      ],
      "metadata": {
        "colab": {
          "base_uri": "https://localhost:8080/"
        },
        "id": "7xm5Tv5geSaO",
        "outputId": "cfdc48c9-ec87-47bb-d92c-ff86e241fd05"
      },
      "execution_count": null,
      "outputs": [
        {
          "output_type": "stream",
          "name": "stdout",
          "text": [
            "Epoch 1/10\n",
            "  1/157 [..............................] - ETA: 9:28 - loss: 1.2034 - accuracy: 0.2188"
          ]
        }
      ]
    },
    {
      "cell_type": "code",
      "source": [
        "XY=[[X[i], Y[i]] for i in range(len(Y))]\n",
        "np.random.shuffle(XY)\n",
        "for i in range(len(XY)):\n",
        "  X[i]=XY[i][0]\n",
        "  Y[i]=XY[i][1]"
      ],
      "metadata": {
        "id": "MpmKvrrAeaoc"
      },
      "execution_count": null,
      "outputs": []
    },
    {
      "cell_type": "code",
      "source": [
        "X=X/255"
      ],
      "metadata": {
        "id": "4nWdumOTeqcJ"
      },
      "execution_count": null,
      "outputs": []
    },
    {
      "cell_type": "code",
      "source": [
        "test_loss, test_acc = model.evaluate(X[-1002:], Y[-1002:])\n",
        "print('Test accuracy:', test_acc)#точность на новых данных"
      ],
      "metadata": {
        "colab": {
          "base_uri": "https://localhost:8080/"
        },
        "id": "VZJILGy7qso6",
        "outputId": "23d654b1-02c5-4870-8979-4555459dbf5f"
      },
      "execution_count": null,
      "outputs": [
        {
          "output_type": "stream",
          "name": "stdout",
          "text": [
            "32/32 [==============================] - 1s 30ms/step - loss: 5.1466 - accuracy: 0.4102\n",
            "Test accuracy: 0.41017964482307434\n"
          ]
        }
      ]
    }
  ]
}